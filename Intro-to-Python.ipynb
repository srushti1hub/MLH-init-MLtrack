{
  "cells": [
    {
      "cell_type": "markdown",
      "metadata": {
        "id": "view-in-github",
        "colab_type": "text"
      },
      "source": [
        "<a href=\"https://colab.research.google.com/github/srushti1hub/MLH-init-MLtrack/blob/main/Intro-to-Python.ipynb\" target=\"_parent\"><img src=\"https://colab.research.google.com/assets/colab-badge.svg\" alt=\"Open In Colab\"/></a>"
      ]
    },
    {
      "cell_type": "markdown",
      "metadata": {
        "id": "pUvIuTx4GlUx"
      },
      "source": [
        "# Intro to Python for Machine Learning"
      ]
    },
    {
      "cell_type": "markdown",
      "metadata": {
        "id": "cvAzAT_MGlUz"
      },
      "source": [
        "## Part 1: Variables and Arithmetic"
      ]
    },
    {
      "cell_type": "code",
      "execution_count": 1,
      "metadata": {
        "id": "O1S2exQSGlUz",
        "colab": {
          "base_uri": "https://localhost:8080/"
        },
        "outputId": "d2bfc89f-420f-4f59-8209-c5828ccd66e2"
      },
      "outputs": [
        {
          "output_type": "execute_result",
          "data": {
            "text/plain": [
              "(6, 16.5, 'hello!', True)"
            ]
          },
          "metadata": {},
          "execution_count": 1
        }
      ],
      "source": [
        "# In Python we store data in variables with the assignment operator (=)\n",
        "my_integer = 6\n",
        "my_floating_point_number = 16.5\n",
        "my_string = 'hello!'\n",
        "my_boolean = True\n",
        "\n",
        "# We can write variable names at the bottom of our cell to see them print out\n",
        "my_integer, my_floating_point_number, my_string, my_boolean"
      ]
    },
    {
      "cell_type": "markdown",
      "metadata": {
        "id": "7WzpihBEGlU0"
      },
      "source": [
        "### Arithmetic"
      ]
    },
    {
      "cell_type": "code",
      "execution_count": 2,
      "metadata": {
        "id": "3AeQxTHiGlU0",
        "colab": {
          "base_uri": "https://localhost:8080/"
        },
        "outputId": "b715c2e1-c1ba-4c37-96dd-3ac1c04e74d7"
      },
      "outputs": [
        {
          "output_type": "execute_result",
          "data": {
            "text/plain": [
              "(30, 20, 125, 5.0)"
            ]
          },
          "metadata": {},
          "execution_count": 2
        }
      ],
      "source": [
        "# With numbers we can add, subtract, multipy and divide\n",
        "a = 25\n",
        "b = 5\n",
        "a_plus_b = a + b\n",
        "a_minus_b = a - b\n",
        "a_times_b = a * b\n",
        "a_divided_by_b = a / b\n",
        "\n",
        "a_plus_b, a_minus_b, a_times_b, a_divided_by_b"
      ]
    },
    {
      "cell_type": "code",
      "execution_count": 3,
      "metadata": {
        "id": "cZEYAcrvGlU0",
        "colab": {
          "base_uri": "https://localhost:8080/"
        },
        "outputId": "49e7a7a8-248f-4190-d9b2-83ffbdf09529"
      },
      "outputs": [
        {
          "output_type": "execute_result",
          "data": {
            "text/plain": [
              "(3.0, 9.0)"
            ]
          },
          "metadata": {},
          "execution_count": 3
        }
      ],
      "source": [
        "# You can always group things in (parenthases) to do that part first--PEMDAS that shit\n",
        "calculation_one = (12 - 6) / 2\n",
        "calculation_two = 12 - (6 / 2)\n",
        "\n",
        "calculation_one, calculation_two"
      ]
    },
    {
      "cell_type": "code",
      "execution_count": 4,
      "metadata": {
        "id": "lsFcAfWNGlU1",
        "colab": {
          "base_uri": "https://localhost:8080/"
        },
        "outputId": "31e584c3-22ba-4585-fa46-d4dcbf62c5a4"
      },
      "outputs": [
        {
          "output_type": "execute_result",
          "data": {
            "text/plain": [
              "10"
            ]
          },
          "metadata": {},
          "execution_count": 4
        }
      ],
      "source": [
        "# Another helpful tool is being able to alter a variable in place\n",
        "\n",
        "day_of_the_month = 9\n",
        "day_of_the_month += 1\n",
        "\n",
        "day_of_the_month"
      ]
    },
    {
      "cell_type": "markdown",
      "metadata": {
        "id": "o2GPRvZZGlU1"
      },
      "source": [
        "### Strings"
      ]
    },
    {
      "cell_type": "code",
      "execution_count": 5,
      "metadata": {
        "id": "oTgIYuZ0GlU2",
        "colab": {
          "base_uri": "https://localhost:8080/",
          "height": 37
        },
        "outputId": "4e25644b-66f8-4665-c0dc-39d022a40901"
      },
      "outputs": [
        {
          "output_type": "execute_result",
          "data": {
            "text/plain": [
              "'Hello Will!'"
            ],
            "application/vnd.google.colaboratory.intrinsic+json": {
              "type": "string"
            }
          },
          "metadata": {},
          "execution_count": 5
        }
      ],
      "source": [
        "# There are lots of cool things we can do with string too\n",
        "# We can use the + operator to concatenate strings\n",
        "\n",
        "my_name = 'Will'\n",
        "greeting = 'Hello ' + my_name + '!'\n",
        "\n",
        "greeting"
      ]
    },
    {
      "cell_type": "code",
      "execution_count": 6,
      "metadata": {
        "id": "uRJjC7cRGlU2",
        "colab": {
          "base_uri": "https://localhost:8080/",
          "height": 37
        },
        "outputId": "c1566f62-bc12-4e24-d950-44762188e017"
      },
      "outputs": [
        {
          "output_type": "execute_result",
          "data": {
            "text/plain": [
              "\"My favorite coffee drink is a cortado. It's the best!\""
            ],
            "application/vnd.google.colaboratory.intrinsic+json": {
              "type": "string"
            }
          },
          "metadata": {},
          "execution_count": 6
        }
      ],
      "source": [
        "# But _usually_ if we want to do something like that, we'll use a format string\n",
        "# Put an `f` before your string, then you can include variable names between {curly braces}\n",
        "\n",
        "drink_name = 'cortado'\n",
        "fun_fact = f'My favorite coffee drink is a {drink_name}. It\\'s the best!'\n",
        "\n",
        "fun_fact"
      ]
    },
    {
      "cell_type": "code",
      "execution_count": 7,
      "metadata": {
        "id": "1p9e6H9PGlU2",
        "colab": {
          "base_uri": "https://localhost:8080/"
        },
        "outputId": "072264ff-c891-4d9e-b372-14c2664fcd16"
      },
      "outputs": [
        {
          "output_type": "execute_result",
          "data": {
            "text/plain": [
              "81"
            ]
          },
          "metadata": {},
          "execution_count": 7
        }
      ],
      "source": [
        "# We can also get the length of a string\n",
        "oh_the_places_youll_go = 'congratulations today is your day, you\\'re off to great places you\\'re off and away'\n",
        "\n",
        "len(oh_the_places_youll_go)"
      ]
    },
    {
      "cell_type": "code",
      "execution_count": 8,
      "metadata": {
        "id": "jrogzL4jGlU3",
        "colab": {
          "base_uri": "https://localhost:8080/",
          "height": 37
        },
        "outputId": "161a770e-0444-466e-cda0-db36643301f3"
      },
      "outputs": [
        {
          "output_type": "execute_result",
          "data": {
            "text/plain": [
              "'a'"
            ],
            "application/vnd.google.colaboratory.intrinsic+json": {
              "type": "string"
            }
          },
          "metadata": {},
          "execution_count": 8
        }
      ],
      "source": [
        "# And we can pull out specific letters from the string with [square brackets]\n",
        "\n",
        "# We start counting from 0, so this will give us our 6th letter\n",
        "oh_the_places_youll_go[5]"
      ]
    },
    {
      "cell_type": "markdown",
      "metadata": {
        "id": "k1NzGU03GlU3"
      },
      "source": [
        "### Booleans"
      ]
    },
    {
      "cell_type": "code",
      "execution_count": 9,
      "metadata": {
        "id": "ZVfVFOUaGlU3",
        "colab": {
          "base_uri": "https://localhost:8080/"
        },
        "outputId": "dd5178fb-a04e-44ca-dc6f-69b92d462b85"
      },
      "outputs": [
        {
          "output_type": "execute_result",
          "data": {
            "text/plain": [
              "(False, True, True)"
            ]
          },
          "metadata": {},
          "execution_count": 9
        }
      ],
      "source": [
        "# Booleans are always either True or False\n",
        "\n",
        "sunny_in_seattle = False\n",
        "i_want_coffee = True\n",
        "\n",
        "# We can use `and`, `or`, and `not` to play with our booleans\n",
        "\n",
        "sunny_in_seattle and i_want_coffee, sunny_in_seattle or i_want_coffee, i_want_coffee and not sunny_in_seattle"
      ]
    },
    {
      "cell_type": "markdown",
      "metadata": {
        "id": "rLJ7e2qTGlU3"
      },
      "source": [
        "### Challenge\n",
        "Create a variable called 'my_age' that holds your age and one called 'my_name' that contains your name. Then create a string that say 'My name is Will and my age is 25' (only replace Will and 25 with your variables)."
      ]
    },
    {
      "cell_type": "code",
      "execution_count": 11,
      "metadata": {
        "id": "F1RwSkM1GlU3",
        "colab": {
          "base_uri": "https://localhost:8080/",
          "height": 37
        },
        "outputId": "35eb949a-8b37-47b9-c239-1a81d514f9f8"
      },
      "outputs": [
        {
          "output_type": "execute_result",
          "data": {
            "text/plain": [
              "'My name is Srushti and my age is 20'"
            ],
            "application/vnd.google.colaboratory.intrinsic+json": {
              "type": "string"
            }
          },
          "metadata": {},
          "execution_count": 11
        }
      ],
      "source": [
        "# Do the challenge here!\n",
        "my_age = 20\n",
        "my_name = \"Srushti\"\n",
        "result = f'My name is {my_name} and my age is {my_age}'\n",
        "result"
      ]
    },
    {
      "cell_type": "markdown",
      "metadata": {
        "id": "ja6G1VXhGlU3"
      },
      "source": [
        "## Part 2: Lists and Dictionaries"
      ]
    },
    {
      "cell_type": "markdown",
      "metadata": {
        "id": "XUBJx6T6GlU3"
      },
      "source": [
        "### Lists"
      ]
    },
    {
      "cell_type": "code",
      "execution_count": 12,
      "metadata": {
        "id": "btC0RSQfGlU3",
        "colab": {
          "base_uri": "https://localhost:8080/"
        },
        "outputId": "c560acf2-b882-43a7-aedc-87c1b29f5b81"
      },
      "outputs": [
        {
          "output_type": "execute_result",
          "data": {
            "text/plain": [
              "['Nashville', 'Boston', 'Seattle']"
            ]
          },
          "metadata": {},
          "execution_count": 12
        }
      ],
      "source": [
        "# If we have multiples of one kind of variable, we can use a list\n",
        "# We can create a list with [square brackets], separating each value with commas\n",
        "cities = ['Nashville', 'Boston']\n",
        "\n",
        "# We can add a new element to the list with the .append method\n",
        "\n",
        "cities.append('Seattle')\n",
        "\n",
        "cities"
      ]
    },
    {
      "cell_type": "code",
      "execution_count": 13,
      "metadata": {
        "id": "04GUOxKaGlU4",
        "colab": {
          "base_uri": "https://localhost:8080/"
        },
        "outputId": "c80553ac-b27a-4b39-ca39-91818c6bb517"
      },
      "outputs": [
        {
          "output_type": "execute_result",
          "data": {
            "text/plain": [
              "('Nashville', 'Seattle')"
            ]
          },
          "metadata": {},
          "execution_count": 13
        }
      ],
      "source": [
        "# Above we see the whole list, but if we want to get a specific element in our list\n",
        "# we can index it, starting with 0. Just like strings!\n",
        "\n",
        "cities[0], cities[2]"
      ]
    },
    {
      "cell_type": "markdown",
      "metadata": {
        "id": "dEpTue7sGlU4"
      },
      "source": [
        "### Dictionaries"
      ]
    },
    {
      "cell_type": "code",
      "execution_count": 14,
      "metadata": {
        "id": "ggMut7wvGlU4",
        "colab": {
          "base_uri": "https://localhost:8080/"
        },
        "outputId": "461180e0-db49-4c15-d09d-308f95aacbe4"
      },
      "outputs": [
        {
          "output_type": "execute_result",
          "data": {
            "text/plain": [
              "{'Boston': 684379, 'Nashville': 692587}"
            ]
          },
          "metadata": {},
          "execution_count": 14
        }
      ],
      "source": [
        "# Sometimes out data doesn't really fit in a list--if we have pairs of values we can use a dictionary!\n",
        "city_populations = {\n",
        "    # Nashville is the key, 692587 is the value\n",
        "    'Nashville': 692587,\n",
        "    'Boston': 684379\n",
        "}\n",
        "\n",
        "city_populations"
      ]
    },
    {
      "cell_type": "code",
      "execution_count": 15,
      "metadata": {
        "id": "ZkvsCMbgGlU4",
        "colab": {
          "base_uri": "https://localhost:8080/"
        },
        "outputId": "62716384-46b3-4a93-9922-43a523384e92"
      },
      "outputs": [
        {
          "output_type": "execute_result",
          "data": {
            "text/plain": [
              "692587"
            ]
          },
          "metadata": {},
          "execution_count": 15
        }
      ],
      "source": [
        "# To get a specific value, we can index it with the key:\n",
        "city_populations['Nashville']"
      ]
    },
    {
      "cell_type": "code",
      "execution_count": 16,
      "metadata": {
        "id": "SUbGBjI7GlU4",
        "colab": {
          "base_uri": "https://localhost:8080/"
        },
        "outputId": "75788c1c-dc4a-4aa3-a60d-7ceaf0336185"
      },
      "outputs": [
        {
          "output_type": "execute_result",
          "data": {
            "text/plain": [
              "{'Boston': 684379, 'Nashville': 692587, 'Seattle': 724305}"
            ]
          },
          "metadata": {},
          "execution_count": 16
        }
      ],
      "source": [
        "# To add a key value pair, we do it like this:\n",
        "\n",
        "city_populations['Seattle'] = 724305\n",
        "\n",
        "city_populations"
      ]
    },
    {
      "cell_type": "code",
      "execution_count": 17,
      "metadata": {
        "id": "ejCtuuJrGlU4",
        "colab": {
          "base_uri": "https://localhost:8080/"
        },
        "outputId": "026eaa28-8f38-4e18-844d-173d47438ea2"
      },
      "outputs": [
        {
          "output_type": "execute_result",
          "data": {
            "text/plain": [
              "dict_keys(['Nashville', 'Boston', 'Seattle'])"
            ]
          },
          "metadata": {},
          "execution_count": 17
        }
      ],
      "source": [
        "# We can also get all the keys of a dictionary with the .keys() method\n",
        "city_populations.keys()"
      ]
    },
    {
      "cell_type": "code",
      "source": [
        "# If we have multiples items of diff kind of variable, we can use a tuple\n",
        "my_tuple = (1,2,3,\"ABC\")\n",
        "my_tuple"
      ],
      "metadata": {
        "id": "Fv6sW0z8U6ax",
        "outputId": "9fbbe7ca-a54f-4a61-eea9-390e2eed49a6",
        "colab": {
          "base_uri": "https://localhost:8080/"
        }
      },
      "execution_count": 18,
      "outputs": [
        {
          "output_type": "execute_result",
          "data": {
            "text/plain": [
              "(1, 2, 3, 'ABC')"
            ]
          },
          "metadata": {},
          "execution_count": 18
        }
      ]
    },
    {
      "cell_type": "markdown",
      "metadata": {
        "id": "Qd8H5_V5GlU4"
      },
      "source": [
        "### Challenge\n",
        "Create a dictionary that maps the names of you and a couple family members or friends to their ages. Then give yourself a birthday by adding 1 to your age, and display the resulting dictionary."
      ]
    },
    {
      "cell_type": "code",
      "execution_count": 19,
      "metadata": {
        "id": "xeCDuZe7GlU4",
        "colab": {
          "base_uri": "https://localhost:8080/"
        },
        "outputId": "259d1b13-cce3-4ebb-c460-0ea43ed74a03"
      },
      "outputs": [
        {
          "output_type": "execute_result",
          "data": {
            "text/plain": [
              "{'Dad': 50, 'Mom': 45, 'Srushti': 21}"
            ]
          },
          "metadata": {},
          "execution_count": 19
        }
      ],
      "source": [
        "# Do the challenge here!\n",
        "my_dictionary = {\n",
        "    \"Srushti\" : 20,\n",
        "    \"Mom\" : 45,\n",
        "    \"Dad\" : 50\n",
        "}\n",
        "my_dictionary[\"Srushti\"] += 1\n",
        "my_dictionary"
      ]
    },
    {
      "cell_type": "markdown",
      "metadata": {
        "id": "0jzm8pSUGlU4"
      },
      "source": [
        "## Part 3: Ifs and Loops"
      ]
    },
    {
      "cell_type": "markdown",
      "metadata": {
        "id": "vfmVACpLGlU4"
      },
      "source": [
        "### If statements"
      ]
    },
    {
      "cell_type": "code",
      "execution_count": 20,
      "metadata": {
        "id": "xbmlPG_BGlU4",
        "colab": {
          "base_uri": "https://localhost:8080/"
        },
        "outputId": "a51223af-1520-4bc7-8106-0f93f468cd51"
      },
      "outputs": [
        {
          "output_type": "stream",
          "name": "stdout",
          "text": [
            "I like pineapple on pizza and I don't care who knows!\n"
          ]
        }
      ],
      "source": [
        "# If statements let us check some condition, and only run code if that condition is True\n",
        "\n",
        "pineapple_belongs_on_pizza = True\n",
        "\n",
        "\n",
        "if pineapple_belongs_on_pizza:\n",
        "    print('I like pineapple on pizza and I don\\'t care who knows!')\n",
        "\n"
      ]
    },
    {
      "cell_type": "code",
      "execution_count": 21,
      "metadata": {
        "id": "C0_glPq5GlU4",
        "colab": {
          "base_uri": "https://localhost:8080/"
        },
        "outputId": "261a5629-a426-4157-d6a0-bca10f6fc5fd"
      },
      "outputs": [
        {
          "output_type": "stream",
          "name": "stdout",
          "text": [
            "Mashed potatoes are literally baby food.\n"
          ]
        }
      ],
      "source": [
        "# We can also add an \"else\" clause to do something else if the condition isn't True\n",
        "mashed_potatoes_are_good = False\n",
        "\n",
        "if mashed_potatoes_are_good:\n",
        "    print('I like mashed potatoes!')\n",
        "else:\n",
        "    print('Mashed potatoes are literally baby food.')"
      ]
    },
    {
      "cell_type": "code",
      "execution_count": 22,
      "metadata": {
        "id": "EJ7HJGwyGlU5",
        "colab": {
          "base_uri": "https://localhost:8080/"
        },
        "outputId": "44faf5b5-512e-4cee-b2ab-4951c9678594"
      },
      "outputs": [
        {
          "output_type": "stream",
          "name": "stdout",
          "text": [
            "You can get a driver's license in the US!\n",
            "Let's go to the beach!\n"
          ]
        }
      ],
      "source": [
        "# We can also use comparisons\n",
        "\n",
        "my_age = 25\n",
        "\n",
        "if my_age > 16:\n",
        "    print('You can get a driver\\'s license in the US!')\n",
        "    \n",
        "if my_age == 22:\n",
        "    print('I don\\'t know about you, but I\\'m feeling 22!')\n",
        "    \n",
        "# And logical operators (notice the extra elif clause there!)\n",
        "\n",
        "temperature_f = 82\n",
        "weather = 'Sunny'\n",
        "\n",
        "if temperature_f > 70 and weather == 'Sunny':\n",
        "    print('Let\\'s go to the beach!')\n",
        "elif temperature_f < 32 and weather == 'Snowy':\n",
        "    print('Let\\'s go skiing!')\n",
        "else:\n",
        "    print('Let\\'s stay inside :/')"
      ]
    },
    {
      "cell_type": "markdown",
      "metadata": {
        "id": "rvW-44ZZGlU5"
      },
      "source": [
        "### Loops"
      ]
    },
    {
      "cell_type": "code",
      "execution_count": 23,
      "metadata": {
        "id": "ByEUfPetGlU5",
        "colab": {
          "base_uri": "https://localhost:8080/"
        },
        "outputId": "c0db1480-0c76-49e9-9c06-4d2aba88cca7"
      },
      "outputs": [
        {
          "output_type": "stream",
          "name": "stdout",
          "text": [
            "Welcome to class Marco!\n",
            "Welcome to class Elizabeth!\n",
            "Welcome to class Eric!\n"
          ]
        }
      ],
      "source": [
        "# We can use loops to do something multiple times--this is really helpful for working with lists\n",
        "\n",
        "students = ['Marco', 'Elizabeth', 'Eric']\n",
        "for student in students:\n",
        "    print(f'Welcome to class {student}!')"
      ]
    },
    {
      "cell_type": "code",
      "execution_count": 24,
      "metadata": {
        "id": "g7_LGmoWGlU5",
        "colab": {
          "base_uri": "https://localhost:8080/"
        },
        "outputId": "3ac34cf1-9cb3-404d-df67-f17bb8ef89ec"
      },
      "outputs": [
        {
          "output_type": "stream",
          "name": "stdout",
          "text": [
            "We're going to have 2 sunny days, 1 rainy days, and 0 snowy days\n"
          ]
        }
      ],
      "source": [
        "# We can also do more interesting logic inside our loop\n",
        "\n",
        "weather_forecasts = ['Sunny', 'Rainy', 'Sunny']\n",
        "\n",
        "sunny_day_count = 0\n",
        "rainy_day_count = 0\n",
        "snowy_day_count = 0\n",
        "\n",
        "for forecast in weather_forecasts:\n",
        "    if forecast == 'Sunny':\n",
        "        sunny_day_count += 1\n",
        "    elif forecast == 'Rainy':\n",
        "        rainy_day_count += 1\n",
        "    elif forecast == 'Snowy':\n",
        "        snowy_day_count += 1\n",
        "\n",
        "print(f'We\\'re going to have {sunny_day_count} sunny days, {rainy_day_count} rainy days, and {snowy_day_count} snowy days')"
      ]
    },
    {
      "cell_type": "code",
      "execution_count": 25,
      "metadata": {
        "id": "QnSnaNn4GlU5",
        "colab": {
          "base_uri": "https://localhost:8080/"
        },
        "outputId": "fc9b4dc7-0f74-4fe2-c0a1-d9a78b72864a"
      },
      "outputs": [
        {
          "output_type": "stream",
          "name": "stdout",
          "text": [
            "{'Will': 26, 'Richard': 24, 'Benjamin Franklin': 317}\n"
          ]
        }
      ],
      "source": [
        "# We can also use loops on dictionaries!\n",
        "\n",
        "ages = {'Will': 25, 'Richard': 23, 'Benjamin Franklin': 316}\n",
        "\n",
        "# Everyone gets a birthday\n",
        "# Notice we get the key in our dummy variable, not the value\n",
        "for key in ages:\n",
        "    ages[key] += 1\n",
        "    \n",
        "print(ages)"
      ]
    },
    {
      "cell_type": "markdown",
      "metadata": {
        "id": "-e4ctcNIGlU5"
      },
      "source": [
        "### Challenge\n",
        "Create a list of integers from 1 through 6. Loop through it and check to see if each number is greater than 3--if it is print out \"NUMBER is greater than 3\" (replacing number with the current number)"
      ]
    },
    {
      "cell_type": "code",
      "execution_count": 27,
      "metadata": {
        "id": "97dHgJCYGlU5",
        "colab": {
          "base_uri": "https://localhost:8080/"
        },
        "outputId": "2082d596-db30-45e7-bf2e-6fcd8b10d91e"
      },
      "outputs": [
        {
          "output_type": "stream",
          "name": "stdout",
          "text": [
            "4 is greater than 3\n",
            "5 is greater than 3\n",
            "6 is greater than 3\n"
          ]
        }
      ],
      "source": [
        "# Do the challenge here!\n",
        "my_list = [1,2,3,4,5,6]\n",
        "for i in my_list:\n",
        "  if i>3:\n",
        "    print(f\"{i} is greater than 3\")"
      ]
    },
    {
      "cell_type": "markdown",
      "metadata": {
        "id": "siD0JBAtGlU6"
      },
      "source": [
        "## Part 4: Functions"
      ]
    },
    {
      "cell_type": "code",
      "execution_count": 28,
      "metadata": {
        "id": "_w_pu7qyGlU6",
        "colab": {
          "base_uri": "https://localhost:8080/"
        },
        "outputId": "62bdbaf5-6fdd-4dd8-dd85-c10302340e22"
      },
      "outputs": [
        {
          "output_type": "execute_result",
          "data": {
            "text/plain": [
              "8"
            ]
          },
          "metadata": {},
          "execution_count": 28
        }
      ],
      "source": [
        "# Functions let us package up a bit of code to reuse multiple times\n",
        "\n",
        "def my_adding_function(foo, bar):\n",
        "    my_sum = foo + bar\n",
        "    return my_sum\n",
        "\n",
        "# In the above function...\n",
        "# def is our keyword that says we're writing a function\n",
        "# my_adding_function is the name of our function, this is what we'll use later to call it\n",
        "# (foo, bar) are our arguments--these are the inputs to our function\n",
        "# the colon (:) tells us we're entering an indented code block, and that the function continues until we unindent\n",
        "# my_sum = foo + bar is the core logic of our function\n",
        "# return my_sum is our return statement--this shows us what the function gives us back when we call it\n",
        "\n",
        "my_adding_function(2, 6)"
      ]
    },
    {
      "cell_type": "markdown",
      "metadata": {
        "id": "xNi25IkGGlU6"
      },
      "source": [
        "### Challenge\n",
        "Write a function that accepts a number, and returns that number times 2!"
      ]
    },
    {
      "cell_type": "code",
      "execution_count": 29,
      "metadata": {
        "id": "Tv5-T_lFGlU6",
        "colab": {
          "base_uri": "https://localhost:8080/"
        },
        "outputId": "75ef6a88-332d-4e7d-e69d-638da5b8e41f"
      },
      "outputs": [
        {
          "output_type": "execute_result",
          "data": {
            "text/plain": [
              "10"
            ]
          },
          "metadata": {},
          "execution_count": 29
        }
      ],
      "source": [
        "# Do the challenge here!\n",
        "def multiply_by_two(num):\n",
        "  return num*2\n",
        "\n",
        "multiply_by_two(5)"
      ]
    },
    {
      "cell_type": "markdown",
      "metadata": {
        "id": "POQB4d-CGlU6"
      },
      "source": [
        "## Part 5: Libraries and Pandas"
      ]
    },
    {
      "cell_type": "markdown",
      "metadata": {
        "id": "IM-N1m0-GlU6"
      },
      "source": [
        "### Libraries"
      ]
    },
    {
      "cell_type": "code",
      "execution_count": 30,
      "metadata": {
        "id": "BLkpIVnpGlU6",
        "colab": {
          "base_uri": "https://localhost:8080/"
        },
        "outputId": "63663a65-67e2-43c2-ba9f-1057159ca4f9"
      },
      "outputs": [
        {
          "output_type": "execute_result",
          "data": {
            "text/plain": [
              "0.8203556042065747"
            ]
          },
          "metadata": {},
          "execution_count": 30
        }
      ],
      "source": [
        "# We can import libraries with the import statement\n",
        "\n",
        "import random\n",
        "\n",
        "# Then use things from those libraries with the dot operator like this:\n",
        "\n",
        "random.random()"
      ]
    },
    {
      "cell_type": "code",
      "execution_count": 31,
      "metadata": {
        "id": "lJvVStzeGlU6",
        "colab": {
          "base_uri": "https://localhost:8080/"
        },
        "outputId": "82344b0d-552b-4a01-83c1-924296fcc583"
      },
      "outputs": [
        {
          "output_type": "execute_result",
          "data": {
            "text/plain": [
              "['BPF',\n",
              " 'LOG4',\n",
              " 'NV_MAGICCONST',\n",
              " 'RECIP_BPF',\n",
              " 'Random',\n",
              " 'SG_MAGICCONST',\n",
              " 'SystemRandom',\n",
              " 'TWOPI',\n",
              " '_BuiltinMethodType',\n",
              " '_MethodType',\n",
              " '_Sequence',\n",
              " '_Set',\n",
              " '__all__',\n",
              " '__builtins__',\n",
              " '__cached__',\n",
              " '__doc__',\n",
              " '__file__',\n",
              " '__loader__',\n",
              " '__name__',\n",
              " '__package__',\n",
              " '__spec__',\n",
              " '_acos',\n",
              " '_bisect',\n",
              " '_ceil',\n",
              " '_cos',\n",
              " '_e',\n",
              " '_exp',\n",
              " '_inst',\n",
              " '_itertools',\n",
              " '_log',\n",
              " '_os',\n",
              " '_pi',\n",
              " '_random',\n",
              " '_sha512',\n",
              " '_sin',\n",
              " '_sqrt',\n",
              " '_test',\n",
              " '_test_generator',\n",
              " '_urandom',\n",
              " '_warn',\n",
              " 'betavariate',\n",
              " 'choice',\n",
              " 'choices',\n",
              " 'expovariate',\n",
              " 'gammavariate',\n",
              " 'gauss',\n",
              " 'getrandbits',\n",
              " 'getstate',\n",
              " 'lognormvariate',\n",
              " 'normalvariate',\n",
              " 'paretovariate',\n",
              " 'randint',\n",
              " 'random',\n",
              " 'randrange',\n",
              " 'sample',\n",
              " 'seed',\n",
              " 'setstate',\n",
              " 'shuffle',\n",
              " 'triangular',\n",
              " 'uniform',\n",
              " 'vonmisesvariate',\n",
              " 'weibullvariate']"
            ]
          },
          "metadata": {},
          "execution_count": 31
        }
      ],
      "source": [
        "# If you every want to know all the stuff you can access with a dot, you can use the dir() function\n",
        "# tho be careful, its output can be a little overwhelming sometimes\n",
        "\n",
        "dir(random)"
      ]
    },
    {
      "cell_type": "code",
      "execution_count": 32,
      "metadata": {
        "id": "LNkBSFUpGlU7",
        "colab": {
          "base_uri": "https://localhost:8080/",
          "height": 282
        },
        "outputId": "92a83673-7a99-4df5-8c76-9ed325ef92fb"
      },
      "outputs": [
        {
          "output_type": "execute_result",
          "data": {
            "text/plain": [
              "[<matplotlib.lines.Line2D at 0x7fcfa1d18dd0>]"
            ]
          },
          "metadata": {},
          "execution_count": 32
        },
        {
          "output_type": "display_data",
          "data": {
            "text/plain": [
              "<Figure size 432x288 with 1 Axes>"
            ],
            "image/png": "[encoded data removed]"
          },
          "metadata": {
            "needs_background": "light"
          }
        }
      ],
      "source": [
        "# another cool library is called matplotlib\n",
        "\n",
        "# Instead of importing all of matplotlib, we're only import pyplot, and we're giving it a new name: plt!\n",
        "import matplotlib.pyplot as plt\n",
        "\n",
        "x = [0, 1, 2, 3, 4, 5, 6]\n",
        "x_squared = [0, 1, 4, 9, 16, 25, 36]\n",
        "\n",
        "plt.plot(x, x_squared)"
      ]
    },
    {
      "cell_type": "code",
      "execution_count": 33,
      "metadata": {
        "id": "Peo2gxVcGlU7"
      },
      "outputs": [],
      "source": [
        "# Now for the big one. There's a library called pandas that we're going to use a lot\n",
        "# It helps us interact with the kind of data you would find in a spreadsheet\n",
        "\n",
        "import pandas as pd\n",
        "\n",
        "raw_data = {\n",
        "    'state': ['California', 'Texas', 'Florida', 'New York', 'Pennsylvania', 'Illinois', 'Ohio', 'Georgia'],\n",
        "    'abbreviation': ['CA', 'TX', 'FL', 'NY', 'PA', 'IL', 'OH', 'GA'],\n",
        "    'population': [39613493, 29730311, 21944577, 19299981, 12804123, 12569321, 11714618, 10830007],\n",
        "    'number_starbucks': [2821, 1042, 694, 645, 357, 575, 378, 326]\n",
        "}\n",
        "\n",
        "df = pd.DataFrame(raw_data)"
      ]
    },
    {
      "cell_type": "code",
      "execution_count": 34,
      "metadata": {
        "id": "nhx6poyIGlU7",
        "colab": {
          "base_uri": "https://localhost:8080/",
          "height": 204
        },
        "outputId": "12e2925e-72d7-4f94-f427-a4b2e0a723ae"
      },
      "outputs": [
        {
          "output_type": "execute_result",
          "data": {
            "text/plain": [
              "          state abbreviation  population  number_starbucks\n",
              "0    California           CA    39613493              2821\n",
              "1         Texas           TX    29730311              1042\n",
              "2       Florida           FL    21944577               694\n",
              "3      New York           NY    19299981               645\n",
              "4  Pennsylvania           PA    12804123               357"
            ],
            "text/html": [
              "\n",
              "  <div id=\"df-140a2f8e-fc19-4b30-a031-ba5d3fc201fd\">\n",
              "    <div class=\"colab-df-container\">\n",
              "      <div>\n",
              "<style scoped>\n",
              "    .dataframe tbody tr th:only-of-type {\n",
              "        vertical-align: middle;\n",
              "    }\n",
              "\n",
              "    .dataframe tbody tr th {\n",
              "        vertical-align: top;\n",
              "    }\n",
              "\n",
              "    .dataframe thead th {\n",
              "        text-align: right;\n",
              "    }\n",
              "</style>\n",
              "<table border=\"1\" class=\"dataframe\">\n",
              "  <thead>\n",
              "    <tr style=\"text-align: right;\">\n",
              "      <th></th>\n",
              "      <th>state</th>\n",
              "      <th>abbreviation</th>\n",
              "      <th>population</th>\n",
              "      <th>number_starbucks</th>\n",
              "    </tr>\n",
              "  </thead>\n",
              "  <tbody>\n",
              "    <tr>\n",
              "      <th>0</th>\n",
              "      <td>California</td>\n",
              "      <td>CA</td>\n",
              "      <td>39613493</td>\n",
              "      <td>2821</td>\n",
              "    </tr>\n",
              "    <tr>\n",
              "      <th>1</th>\n",
              "      <td>Texas</td>\n",
              "      <td>TX</td>\n",
              "      <td>29730311</td>\n",
              "      <td>1042</td>\n",
              "    </tr>\n",
              "    <tr>\n",
              "      <th>2</th>\n",
              "      <td>Florida</td>\n",
              "      <td>FL</td>\n",
              "      <td>21944577</td>\n",
              "      <td>694</td>\n",
              "    </tr>\n",
              "    <tr>\n",
              "      <th>3</th>\n",
              "      <td>New York</td>\n",
              "      <td>NY</td>\n",
              "      <td>19299981</td>\n",
              "      <td>645</td>\n",
              "    </tr>\n",
              "    <tr>\n",
              "      <th>4</th>\n",
              "      <td>Pennsylvania</td>\n",
              "      <td>PA</td>\n",
              "      <td>12804123</td>\n",
              "      <td>357</td>\n",
              "    </tr>\n",
              "  </tbody>\n",
              "</table>\n",
              "</div>\n",
              "      <button class=\"colab-df-convert\" onclick=\"convertToInteractive('df-140a2f8e-fc19-4b30-a031-ba5d3fc201fd')\"\n",
              "              title=\"Convert this dataframe to an interactive table.\"\n",
              "              style=\"display:none;\">\n",
              "        \n",
              "  <svg xmlns=\"http://www.w3.org/2000/svg\" height=\"24px\"viewBox=\"0 0 24 24\"\n",
              "       width=\"24px\">\n",
              "    <path d=\"M0 0h24v24H0V0z\" fill=\"none\"/>\n",
              "    <path d=\"M18.56 5.44l.94 2.06.94-2.06 2.06-.94-2.06-.94-.94-2.06-.94 2.06-2.06.94zm-11 1L8.5 8.5l.94-2.06 2.06-.94-2.06-.94L8.5 2.5l-.94 2.06-2.06.94zm10 10l.94 2.06.94-2.06 2.06-.94-2.06-.94-.94-2.06-.94 2.06-2.06.94z\"/><path d=\"M17.41 7.96l-1.37-1.37c-.4-.4-.92-.59-1.43-.59-.52 0-1.04.2-1.43.59L10.3 9.45l-7.72 7.72c-.78.78-.78 2.05 0 2.83L4 21.41c.39.39.9.59 1.41.59.51 0 1.02-.2 1.41-.59l7.78-7.78 2.81-2.81c.8-.78.8-2.07 0-2.86zM5.41 20L4 18.59l7.72-7.72 1.47 1.35L5.41 20z\"/>\n",
              "  </svg>\n",
              "      </button>\n",
              "      \n",
              "  <style>\n",
              "    .colab-df-container {\n",
              "      display:flex;\n",
              "      flex-wrap:wrap;\n",
              "      gap: 12px;\n",
              "    }\n",
              "\n",
              "    .colab-df-convert {\n",
              "      background-color: #E8F0FE;\n",
              "      border: none;\n",
              "      border-radius: 50%;\n",
              "      cursor: pointer;\n",
              "      display: none;\n",
              "      fill: #1967D2;\n",
              "      height: 32px;\n",
              "      padding: 0 0 0 0;\n",
              "      width: 32px;\n",
              "    }\n",
              "\n",
              "    .colab-df-convert:hover {\n",
              "      background-color: #E2EBFA;\n",
              "      box-shadow: 0px 1px 2px rgba(60, 64, 67, 0.3), 0px 1px 3px 1px rgba(60, 64, 67, 0.15);\n",
              "      fill: #174EA6;\n",
              "    }\n",
              "\n",
              "    [theme=dark] .colab-df-convert {\n",
              "      background-color: #3B4455;\n",
              "      fill: #D2E3FC;\n",
              "    }\n",
              "\n",
              "    [theme=dark] .colab-df-convert:hover {\n",
              "      background-color: #434B5C;\n",
              "      box-shadow: 0px 1px 3px 1px rgba(0, 0, 0, 0.15);\n",
              "      filter: drop-shadow(0px 1px 2px rgba(0, 0, 0, 0.3));\n",
              "      fill: #FFFFFF;\n",
              "    }\n",
              "  </style>\n",
              "\n",
              "      <script>\n",
              "        const buttonEl =\n",
              "          document.querySelector('#df-140a2f8e-fc19-4b30-a031-ba5d3fc201fd button.colab-df-convert');\n",
              "        buttonEl.style.display =\n",
              "          google.colab.kernel.accessAllowed ? 'block' : 'none';\n",
              "\n",
              "        async function convertToInteractive(key) {\n",
              "          const element = document.querySelector('#df-140a2f8e-fc19-4b30-a031-ba5d3fc201fd');\n",
              "          const dataTable =\n",
              "            await google.colab.kernel.invokeFunction('convertToInteractive',\n",
              "                                                     [key], {});\n",
              "          if (!dataTable) return;\n",
              "\n",
              "          const docLinkHtml = 'Like what you see? Visit the ' +\n",
              "            '<a target=\"_blank\" href=https://colab.research.google.com/notebooks/data_table.ipynb>data table notebook</a>'\n",
              "            + ' to learn more about interactive tables.';\n",
              "          element.innerHTML = '';\n",
              "          dataTable['output_type'] = 'display_data';\n",
              "          await google.colab.output.renderOutput(dataTable, element);\n",
              "          const docLink = document.createElement('div');\n",
              "          docLink.innerHTML = docLinkHtml;\n",
              "          element.appendChild(docLink);\n",
              "        }\n",
              "      </script>\n",
              "    </div>\n",
              "  </div>\n",
              "  "
            ]
          },
          "metadata": {},
          "execution_count": 34
        }
      ],
      "source": [
        "# Head is a helpful function that will just show us the first few rows of our dataframe\n",
        "df.head()"
      ]
    },
    {
      "cell_type": "code",
      "execution_count": 35,
      "metadata": {
        "id": "rW19yYrkGlU7",
        "colab": {
          "base_uri": "https://localhost:8080/"
        },
        "outputId": "7bf298aa-c8e6-4fb3-9935-498b20ee9734"
      },
      "outputs": [
        {
          "output_type": "execute_result",
          "data": {
            "text/plain": [
              "0    2821\n",
              "1    1042\n",
              "2     694\n",
              "3     645\n",
              "4     357\n",
              "5     575\n",
              "6     378\n",
              "7     326\n",
              "Name: number_starbucks, dtype: int64"
            ]
          },
          "metadata": {},
          "execution_count": 35
        }
      ],
      "source": [
        "# We can pull out a single column just like we would for a dictionary\n",
        "\n",
        "df['number_starbucks']"
      ]
    },
    {
      "cell_type": "code",
      "execution_count": 36,
      "metadata": {
        "id": "uGfq9AmIGlU7",
        "colab": {
          "base_uri": "https://localhost:8080/"
        },
        "outputId": "8cea1c2e-7d0f-4a75-d301-9b8a838340b1"
      },
      "outputs": [
        {
          "output_type": "execute_result",
          "data": {
            "text/plain": [
              "(854.75, 828.4166912162709)"
            ]
          },
          "metadata": {},
          "execution_count": 36
        }
      ],
      "source": [
        "# We can also get cool stats on that column\n",
        "\n",
        "df['number_starbucks'].mean(), df['number_starbucks'].std()"
      ]
    },
    {
      "cell_type": "code",
      "execution_count": 37,
      "metadata": {
        "id": "wQUUH-57GlU7",
        "colab": {
          "base_uri": "https://localhost:8080/"
        },
        "outputId": "c19d898e-705b-457a-a654-331e11587e64"
      },
      "outputs": [
        {
          "output_type": "stream",
          "name": "stdout",
          "text": [
            "California is a state in the US!\n",
            "Texas is a state in the US!\n",
            "Florida is a state in the US!\n",
            "New York is a state in the US!\n",
            "Pennsylvania is a state in the US!\n",
            "Illinois is a state in the US!\n",
            "Ohio is a state in the US!\n",
            "Georgia is a state in the US!\n"
          ]
        }
      ],
      "source": [
        "# Each individual column also works like a list, so we can use it in a loop:\n",
        "\n",
        "for state in df['state']:\n",
        "    print(f'{state} is a state in the US!')"
      ]
    },
    {
      "cell_type": "code",
      "execution_count": 38,
      "metadata": {
        "id": "53UwqnHeGlU7",
        "colab": {
          "base_uri": "https://localhost:8080/",
          "height": 296
        },
        "outputId": "c4d6f0e4-6e81-4826-a489-26655afbcaf5"
      },
      "outputs": [
        {
          "output_type": "execute_result",
          "data": {
            "text/plain": [
              "Text(0, 0.5, 'number of starbucks')"
            ]
          },
          "metadata": {},
          "execution_count": 38
        },
        {
          "output_type": "display_data",
          "data": {
            "text/plain": [
              "<Figure size 432x288 with 1 Axes>"
            ],
            "image/png": "[encoded data removed]"
          },
          "metadata": {
            "needs_background": "light"
          }
        }
      ],
      "source": [
        "# Or we can use them in a graph\n",
        "\n",
        "\n",
        "plt.plot(df['population'], df['number_starbucks'])\n",
        "plt.xlabel('population')\n",
        "plt.ylabel('number of starbucks')"
      ]
    },
    {
      "cell_type": "code",
      "execution_count": 39,
      "metadata": {
        "id": "W43ZdfXoGlU7",
        "colab": {
          "base_uri": "https://localhost:8080/",
          "height": 142
        },
        "outputId": "7d6a626b-231a-4977-b41b-5d5bd443ee37"
      },
      "outputs": [
        {
          "output_type": "execute_result",
          "data": {
            "text/plain": [
              "        state abbreviation  population  number_starbucks\n",
              "0  California           CA    39613493              2821\n",
              "1       Texas           TX    29730311              1042\n",
              "2     Florida           FL    21944577               694"
            ],
            "text/html": [
              "\n",
              "  <div id=\"df-ba1cb573-cedc-4d17-89a0-5b5f7b23d4b9\">\n",
              "    <div class=\"colab-df-container\">\n",
              "      <div>\n",
              "<style scoped>\n",
              "    .dataframe tbody tr th:only-of-type {\n",
              "        vertical-align: middle;\n",
              "    }\n",
              "\n",
              "    .dataframe tbody tr th {\n",
              "        vertical-align: top;\n",
              "    }\n",
              "\n",
              "    .dataframe thead th {\n",
              "        text-align: right;\n",
              "    }\n",
              "</style>\n",
              "<table border=\"1\" class=\"dataframe\">\n",
              "  <thead>\n",
              "    <tr style=\"text-align: right;\">\n",
              "      <th></th>\n",
              "      <th>state</th>\n",
              "      <th>abbreviation</th>\n",
              "      <th>population</th>\n",
              "      <th>number_starbucks</th>\n",
              "    </tr>\n",
              "  </thead>\n",
              "  <tbody>\n",
              "    <tr>\n",
              "      <th>0</th>\n",
              "      <td>California</td>\n",
              "      <td>CA</td>\n",
              "      <td>39613493</td>\n",
              "      <td>2821</td>\n",
              "    </tr>\n",
              "    <tr>\n",
              "      <th>1</th>\n",
              "      <td>Texas</td>\n",
              "      <td>TX</td>\n",
              "      <td>29730311</td>\n",
              "      <td>1042</td>\n",
              "    </tr>\n",
              "    <tr>\n",
              "      <th>2</th>\n",
              "      <td>Florida</td>\n",
              "      <td>FL</td>\n",
              "      <td>21944577</td>\n",
              "      <td>694</td>\n",
              "    </tr>\n",
              "  </tbody>\n",
              "</table>\n",
              "</div>\n",
              "      <button class=\"colab-df-convert\" onclick=\"convertToInteractive('df-ba1cb573-cedc-4d17-89a0-5b5f7b23d4b9')\"\n",
              "              title=\"Convert this dataframe to an interactive table.\"\n",
              "              style=\"display:none;\">\n",
              "        \n",
              "  <svg xmlns=\"http://www.w3.org/2000/svg\" height=\"24px\"viewBox=\"0 0 24 24\"\n",
              "       width=\"24px\">\n",
              "    <path d=\"M0 0h24v24H0V0z\" fill=\"none\"/>\n",
              "    <path d=\"M18.56 5.44l.94 2.06.94-2.06 2.06-.94-2.06-.94-.94-2.06-.94 2.06-2.06.94zm-11 1L8.5 8.5l.94-2.06 2.06-.94-2.06-.94L8.5 2.5l-.94 2.06-2.06.94zm10 10l.94 2.06.94-2.06 2.06-.94-2.06-.94-.94-2.06-.94 2.06-2.06.94z\"/><path d=\"M17.41 7.96l-1.37-1.37c-.4-.4-.92-.59-1.43-.59-.52 0-1.04.2-1.43.59L10.3 9.45l-7.72 7.72c-.78.78-.78 2.05 0 2.83L4 21.41c.39.39.9.59 1.41.59.51 0 1.02-.2 1.41-.59l7.78-7.78 2.81-2.81c.8-.78.8-2.07 0-2.86zM5.41 20L4 18.59l7.72-7.72 1.47 1.35L5.41 20z\"/>\n",
              "  </svg>\n",
              "      </button>\n",
              "      \n",
              "  <style>\n",
              "    .colab-df-container {\n",
              "      display:flex;\n",
              "      flex-wrap:wrap;\n",
              "      gap: 12px;\n",
              "    }\n",
              "\n",
              "    .colab-df-convert {\n",
              "      background-color: #E8F0FE;\n",
              "      border: none;\n",
              "      border-radius: 50%;\n",
              "      cursor: pointer;\n",
              "      display: none;\n",
              "      fill: #1967D2;\n",
              "      height: 32px;\n",
              "      padding: 0 0 0 0;\n",
              "      width: 32px;\n",
              "    }\n",
              "\n",
              "    .colab-df-convert:hover {\n",
              "      background-color: #E2EBFA;\n",
              "      box-shadow: 0px 1px 2px rgba(60, 64, 67, 0.3), 0px 1px 3px 1px rgba(60, 64, 67, 0.15);\n",
              "      fill: #174EA6;\n",
              "    }\n",
              "\n",
              "    [theme=dark] .colab-df-convert {\n",
              "      background-color: #3B4455;\n",
              "      fill: #D2E3FC;\n",
              "    }\n",
              "\n",
              "    [theme=dark] .colab-df-convert:hover {\n",
              "      background-color: #434B5C;\n",
              "      box-shadow: 0px 1px 3px 1px rgba(0, 0, 0, 0.15);\n",
              "      filter: drop-shadow(0px 1px 2px rgba(0, 0, 0, 0.3));\n",
              "      fill: #FFFFFF;\n",
              "    }\n",
              "  </style>\n",
              "\n",
              "      <script>\n",
              "        const buttonEl =\n",
              "          document.querySelector('#df-ba1cb573-cedc-4d17-89a0-5b5f7b23d4b9 button.colab-df-convert');\n",
              "        buttonEl.style.display =\n",
              "          google.colab.kernel.accessAllowed ? 'block' : 'none';\n",
              "\n",
              "        async function convertToInteractive(key) {\n",
              "          const element = document.querySelector('#df-ba1cb573-cedc-4d17-89a0-5b5f7b23d4b9');\n",
              "          const dataTable =\n",
              "            await google.colab.kernel.invokeFunction('convertToInteractive',\n",
              "                                                     [key], {});\n",
              "          if (!dataTable) return;\n",
              "\n",
              "          const docLinkHtml = 'Like what you see? Visit the ' +\n",
              "            '<a target=\"_blank\" href=https://colab.research.google.com/notebooks/data_table.ipynb>data table notebook</a>'\n",
              "            + ' to learn more about interactive tables.';\n",
              "          element.innerHTML = '';\n",
              "          dataTable['output_type'] = 'display_data';\n",
              "          await google.colab.output.renderOutput(dataTable, element);\n",
              "          const docLink = document.createElement('div');\n",
              "          docLink.innerHTML = docLinkHtml;\n",
              "          element.appendChild(docLink);\n",
              "        }\n",
              "      </script>\n",
              "    </div>\n",
              "  </div>\n",
              "  "
            ]
          },
          "metadata": {},
          "execution_count": 39
        }
      ],
      "source": [
        "# We can also filter our dataframe like this\n",
        "\n",
        "# Here we'll get all our states with more than 20 million people\n",
        "df[df['population'] > 20000000]"
      ]
    },
    {
      "cell_type": "code",
      "execution_count": 40,
      "metadata": {
        "id": "f6Fe5lDsGlU7",
        "colab": {
          "base_uri": "https://localhost:8080/",
          "height": 297
        },
        "outputId": "b4953059-b8c8-49e0-93a4-c2c0936adfde"
      },
      "outputs": [
        {
          "output_type": "execute_result",
          "data": {
            "text/plain": [
              "          state abbreviation  population  number_starbucks  \\\n",
              "0    California           CA    39613493              2821   \n",
              "1         Texas           TX    29730311              1042   \n",
              "2       Florida           FL    21944577               694   \n",
              "3      New York           NY    19299981               645   \n",
              "4  Pennsylvania           PA    12804123               357   \n",
              "5      Illinois           IL    12569321               575   \n",
              "6          Ohio           OH    11714618               378   \n",
              "7       Georgia           GA    10830007               326   \n",
              "\n",
              "   people_per_starbucks  \n",
              "0          14042.358384  \n",
              "1          28531.968330  \n",
              "2          31620.427954  \n",
              "3          29922.451163  \n",
              "4          35865.890756  \n",
              "5          21859.688696  \n",
              "6          30991.052910  \n",
              "7          33220.880368  "
            ],
            "text/html": [
              "\n",
              "  <div id=\"df-608cb54a-f85f-41d2-8498-84abfa125b3d\">\n",
              "    <div class=\"colab-df-container\">\n",
              "      <div>\n",
              "<style scoped>\n",
              "    .dataframe tbody tr th:only-of-type {\n",
              "        vertical-align: middle;\n",
              "    }\n",
              "\n",
              "    .dataframe tbody tr th {\n",
              "        vertical-align: top;\n",
              "    }\n",
              "\n",
              "    .dataframe thead th {\n",
              "        text-align: right;\n",
              "    }\n",
              "</style>\n",
              "<table border=\"1\" class=\"dataframe\">\n",
              "  <thead>\n",
              "    <tr style=\"text-align: right;\">\n",
              "      <th></th>\n",
              "      <th>state</th>\n",
              "      <th>abbreviation</th>\n",
              "      <th>population</th>\n",
              "      <th>number_starbucks</th>\n",
              "      <th>people_per_starbucks</th>\n",
              "    </tr>\n",
              "  </thead>\n",
              "  <tbody>\n",
              "    <tr>\n",
              "      <th>0</th>\n",
              "      <td>California</td>\n",
              "      <td>CA</td>\n",
              "      <td>39613493</td>\n",
              "      <td>2821</td>\n",
              "      <td>14042.358384</td>\n",
              "    </tr>\n",
              "    <tr>\n",
              "      <th>1</th>\n",
              "      <td>Texas</td>\n",
              "      <td>TX</td>\n",
              "      <td>29730311</td>\n",
              "      <td>1042</td>\n",
              "      <td>28531.968330</td>\n",
              "    </tr>\n",
              "    <tr>\n",
              "      <th>2</th>\n",
              "      <td>Florida</td>\n",
              "      <td>FL</td>\n",
              "      <td>21944577</td>\n",
              "      <td>694</td>\n",
              "      <td>31620.427954</td>\n",
              "    </tr>\n",
              "    <tr>\n",
              "      <th>3</th>\n",
              "      <td>New York</td>\n",
              "      <td>NY</td>\n",
              "      <td>19299981</td>\n",
              "      <td>645</td>\n",
              "      <td>29922.451163</td>\n",
              "    </tr>\n",
              "    <tr>\n",
              "      <th>4</th>\n",
              "      <td>Pennsylvania</td>\n",
              "      <td>PA</td>\n",
              "      <td>12804123</td>\n",
              "      <td>357</td>\n",
              "      <td>35865.890756</td>\n",
              "    </tr>\n",
              "    <tr>\n",
              "      <th>5</th>\n",
              "      <td>Illinois</td>\n",
              "      <td>IL</td>\n",
              "      <td>12569321</td>\n",
              "      <td>575</td>\n",
              "      <td>21859.688696</td>\n",
              "    </tr>\n",
              "    <tr>\n",
              "      <th>6</th>\n",
              "      <td>Ohio</td>\n",
              "      <td>OH</td>\n",
              "      <td>11714618</td>\n",
              "      <td>378</td>\n",
              "      <td>30991.052910</td>\n",
              "    </tr>\n",
              "    <tr>\n",
              "      <th>7</th>\n",
              "      <td>Georgia</td>\n",
              "      <td>GA</td>\n",
              "      <td>10830007</td>\n",
              "      <td>326</td>\n",
              "      <td>33220.880368</td>\n",
              "    </tr>\n",
              "  </tbody>\n",
              "</table>\n",
              "</div>\n",
              "      <button class=\"colab-df-convert\" onclick=\"convertToInteractive('df-608cb54a-f85f-41d2-8498-84abfa125b3d')\"\n",
              "              title=\"Convert this dataframe to an interactive table.\"\n",
              "              style=\"display:none;\">\n",
              "        \n",
              "  <svg xmlns=\"http://www.w3.org/2000/svg\" height=\"24px\"viewBox=\"0 0 24 24\"\n",
              "       width=\"24px\">\n",
              "    <path d=\"M0 0h24v24H0V0z\" fill=\"none\"/>\n",
              "    <path d=\"M18.56 5.44l.94 2.06.94-2.06 2.06-.94-2.06-.94-.94-2.06-.94 2.06-2.06.94zm-11 1L8.5 8.5l.94-2.06 2.06-.94-2.06-.94L8.5 2.5l-.94 2.06-2.06.94zm10 10l.94 2.06.94-2.06 2.06-.94-2.06-.94-.94-2.06-.94 2.06-2.06.94z\"/><path d=\"M17.41 7.96l-1.37-1.37c-.4-.4-.92-.59-1.43-.59-.52 0-1.04.2-1.43.59L10.3 9.45l-7.72 7.72c-.78.78-.78 2.05 0 2.83L4 21.41c.39.39.9.59 1.41.59.51 0 1.02-.2 1.41-.59l7.78-7.78 2.81-2.81c.8-.78.8-2.07 0-2.86zM5.41 20L4 18.59l7.72-7.72 1.47 1.35L5.41 20z\"/>\n",
              "  </svg>\n",
              "      </button>\n",
              "      \n",
              "  <style>\n",
              "    .colab-df-container {\n",
              "      display:flex;\n",
              "      flex-wrap:wrap;\n",
              "      gap: 12px;\n",
              "    }\n",
              "\n",
              "    .colab-df-convert {\n",
              "      background-color: #E8F0FE;\n",
              "      border: none;\n",
              "      border-radius: 50%;\n",
              "      cursor: pointer;\n",
              "      display: none;\n",
              "      fill: #1967D2;\n",
              "      height: 32px;\n",
              "      padding: 0 0 0 0;\n",
              "      width: 32px;\n",
              "    }\n",
              "\n",
              "    .colab-df-convert:hover {\n",
              "      background-color: #E2EBFA;\n",
              "      box-shadow: 0px 1px 2px rgba(60, 64, 67, 0.3), 0px 1px 3px 1px rgba(60, 64, 67, 0.15);\n",
              "      fill: #174EA6;\n",
              "    }\n",
              "\n",
              "    [theme=dark] .colab-df-convert {\n",
              "      background-color: #3B4455;\n",
              "      fill: #D2E3FC;\n",
              "    }\n",
              "\n",
              "    [theme=dark] .colab-df-convert:hover {\n",
              "      background-color: #434B5C;\n",
              "      box-shadow: 0px 1px 3px 1px rgba(0, 0, 0, 0.15);\n",
              "      filter: drop-shadow(0px 1px 2px rgba(0, 0, 0, 0.3));\n",
              "      fill: #FFFFFF;\n",
              "    }\n",
              "  </style>\n",
              "\n",
              "      <script>\n",
              "        const buttonEl =\n",
              "          document.querySelector('#df-608cb54a-f85f-41d2-8498-84abfa125b3d button.colab-df-convert');\n",
              "        buttonEl.style.display =\n",
              "          google.colab.kernel.accessAllowed ? 'block' : 'none';\n",
              "\n",
              "        async function convertToInteractive(key) {\n",
              "          const element = document.querySelector('#df-608cb54a-f85f-41d2-8498-84abfa125b3d');\n",
              "          const dataTable =\n",
              "            await google.colab.kernel.invokeFunction('convertToInteractive',\n",
              "                                                     [key], {});\n",
              "          if (!dataTable) return;\n",
              "\n",
              "          const docLinkHtml = 'Like what you see? Visit the ' +\n",
              "            '<a target=\"_blank\" href=https://colab.research.google.com/notebooks/data_table.ipynb>data table notebook</a>'\n",
              "            + ' to learn more about interactive tables.';\n",
              "          element.innerHTML = '';\n",
              "          dataTable['output_type'] = 'display_data';\n",
              "          await google.colab.output.renderOutput(dataTable, element);\n",
              "          const docLink = document.createElement('div');\n",
              "          docLink.innerHTML = docLinkHtml;\n",
              "          element.appendChild(docLink);\n",
              "        }\n",
              "      </script>\n",
              "    </div>\n",
              "  </div>\n",
              "  "
            ]
          },
          "metadata": {},
          "execution_count": 40
        }
      ],
      "source": [
        "# We can also create new columns\n",
        "\n",
        "df['people_per_starbucks'] = df['population'] / df['number_starbucks']\n",
        "\n",
        "df"
      ]
    },
    {
      "cell_type": "code",
      "execution_count": 41,
      "metadata": {
        "id": "PZB_vXMjGlU7",
        "colab": {
          "base_uri": "https://localhost:8080/"
        },
        "outputId": "3b6ba352-34ee-46ba-abd2-bb293ba23fd1"
      },
      "outputs": [
        {
          "output_type": "stream",
          "name": "stderr",
          "text": [
            "/usr/local/lib/python3.7/dist-packages/ipykernel_launcher.py:6: SettingWithCopyWarning: \n",
            "A value is trying to be set on a copy of a slice from a DataFrame.\n",
            "Try using .loc[row_indexer,col_indexer] = value instead\n",
            "\n",
            "See the caveats in the documentation: https://pandas.pydata.org/pandas-docs/stable/user_guide/indexing.html#returning-a-view-versus-a-copy\n",
            "  \n"
          ]
        }
      ],
      "source": [
        "# What if we want to analyze just states that have a starbucks for every 30,000 people or fewer?\n",
        "# This will cause issues!\n",
        "states_with_a_lot_of_starbucks = df[df['people_per_starbucks'] <= 30000]\n",
        "\n",
        "states_with_a_lot_of_starbucks['caffeinated'] = 'highly'"
      ]
    },
    {
      "cell_type": "code",
      "execution_count": 42,
      "metadata": {
        "id": "82fE_TirGlU7",
        "colab": {
          "base_uri": "https://localhost:8080/",
          "height": 173
        },
        "outputId": "567177d1-0771-4fbe-f70b-0019dfc3bca9"
      },
      "outputs": [
        {
          "output_type": "execute_result",
          "data": {
            "text/plain": [
              "        state abbreviation  population  number_starbucks  \\\n",
              "0  California           CA    39613493              2821   \n",
              "1       Texas           TX    29730311              1042   \n",
              "3    New York           NY    19299981               645   \n",
              "5    Illinois           IL    12569321               575   \n",
              "\n",
              "   people_per_starbucks caffeinated  \n",
              "0          14042.358384      highly  \n",
              "1          28531.968330      highly  \n",
              "3          29922.451163      highly  \n",
              "5          21859.688696      highly  "
            ],
            "text/html": [
              "\n",
              "  <div id=\"df-2252bb5d-6e90-492b-84a5-8ba87bf9c4cb\">\n",
              "    <div class=\"colab-df-container\">\n",
              "      <div>\n",
              "<style scoped>\n",
              "    .dataframe tbody tr th:only-of-type {\n",
              "        vertical-align: middle;\n",
              "    }\n",
              "\n",
              "    .dataframe tbody tr th {\n",
              "        vertical-align: top;\n",
              "    }\n",
              "\n",
              "    .dataframe thead th {\n",
              "        text-align: right;\n",
              "    }\n",
              "</style>\n",
              "<table border=\"1\" class=\"dataframe\">\n",
              "  <thead>\n",
              "    <tr style=\"text-align: right;\">\n",
              "      <th></th>\n",
              "      <th>state</th>\n",
              "      <th>abbreviation</th>\n",
              "      <th>population</th>\n",
              "      <th>number_starbucks</th>\n",
              "      <th>people_per_starbucks</th>\n",
              "      <th>caffeinated</th>\n",
              "    </tr>\n",
              "  </thead>\n",
              "  <tbody>\n",
              "    <tr>\n",
              "      <th>0</th>\n",
              "      <td>California</td>\n",
              "      <td>CA</td>\n",
              "      <td>39613493</td>\n",
              "      <td>2821</td>\n",
              "      <td>14042.358384</td>\n",
              "      <td>highly</td>\n",
              "    </tr>\n",
              "    <tr>\n",
              "      <th>1</th>\n",
              "      <td>Texas</td>\n",
              "      <td>TX</td>\n",
              "      <td>29730311</td>\n",
              "      <td>1042</td>\n",
              "      <td>28531.968330</td>\n",
              "      <td>highly</td>\n",
              "    </tr>\n",
              "    <tr>\n",
              "      <th>3</th>\n",
              "      <td>New York</td>\n",
              "      <td>NY</td>\n",
              "      <td>19299981</td>\n",
              "      <td>645</td>\n",
              "      <td>29922.451163</td>\n",
              "      <td>highly</td>\n",
              "    </tr>\n",
              "    <tr>\n",
              "      <th>5</th>\n",
              "      <td>Illinois</td>\n",
              "      <td>IL</td>\n",
              "      <td>12569321</td>\n",
              "      <td>575</td>\n",
              "      <td>21859.688696</td>\n",
              "      <td>highly</td>\n",
              "    </tr>\n",
              "  </tbody>\n",
              "</table>\n",
              "</div>\n",
              "      <button class=\"colab-df-convert\" onclick=\"convertToInteractive('df-2252bb5d-6e90-492b-84a5-8ba87bf9c4cb')\"\n",
              "              title=\"Convert this dataframe to an interactive table.\"\n",
              "              style=\"display:none;\">\n",
              "        \n",
              "  <svg xmlns=\"http://www.w3.org/2000/svg\" height=\"24px\"viewBox=\"0 0 24 24\"\n",
              "       width=\"24px\">\n",
              "    <path d=\"M0 0h24v24H0V0z\" fill=\"none\"/>\n",
              "    <path d=\"M18.56 5.44l.94 2.06.94-2.06 2.06-.94-2.06-.94-.94-2.06-.94 2.06-2.06.94zm-11 1L8.5 8.5l.94-2.06 2.06-.94-2.06-.94L8.5 2.5l-.94 2.06-2.06.94zm10 10l.94 2.06.94-2.06 2.06-.94-2.06-.94-.94-2.06-.94 2.06-2.06.94z\"/><path d=\"M17.41 7.96l-1.37-1.37c-.4-.4-.92-.59-1.43-.59-.52 0-1.04.2-1.43.59L10.3 9.45l-7.72 7.72c-.78.78-.78 2.05 0 2.83L4 21.41c.39.39.9.59 1.41.59.51 0 1.02-.2 1.41-.59l7.78-7.78 2.81-2.81c.8-.78.8-2.07 0-2.86zM5.41 20L4 18.59l7.72-7.72 1.47 1.35L5.41 20z\"/>\n",
              "  </svg>\n",
              "      </button>\n",
              "      \n",
              "  <style>\n",
              "    .colab-df-container {\n",
              "      display:flex;\n",
              "      flex-wrap:wrap;\n",
              "      gap: 12px;\n",
              "    }\n",
              "\n",
              "    .colab-df-convert {\n",
              "      background-color: #E8F0FE;\n",
              "      border: none;\n",
              "      border-radius: 50%;\n",
              "      cursor: pointer;\n",
              "      display: none;\n",
              "      fill: #1967D2;\n",
              "      height: 32px;\n",
              "      padding: 0 0 0 0;\n",
              "      width: 32px;\n",
              "    }\n",
              "\n",
              "    .colab-df-convert:hover {\n",
              "      background-color: #E2EBFA;\n",
              "      box-shadow: 0px 1px 2px rgba(60, 64, 67, 0.3), 0px 1px 3px 1px rgba(60, 64, 67, 0.15);\n",
              "      fill: #174EA6;\n",
              "    }\n",
              "\n",
              "    [theme=dark] .colab-df-convert {\n",
              "      background-color: #3B4455;\n",
              "      fill: #D2E3FC;\n",
              "    }\n",
              "\n",
              "    [theme=dark] .colab-df-convert:hover {\n",
              "      background-color: #434B5C;\n",
              "      box-shadow: 0px 1px 3px 1px rgba(0, 0, 0, 0.15);\n",
              "      filter: drop-shadow(0px 1px 2px rgba(0, 0, 0, 0.3));\n",
              "      fill: #FFFFFF;\n",
              "    }\n",
              "  </style>\n",
              "\n",
              "      <script>\n",
              "        const buttonEl =\n",
              "          document.querySelector('#df-2252bb5d-6e90-492b-84a5-8ba87bf9c4cb button.colab-df-convert');\n",
              "        buttonEl.style.display =\n",
              "          google.colab.kernel.accessAllowed ? 'block' : 'none';\n",
              "\n",
              "        async function convertToInteractive(key) {\n",
              "          const element = document.querySelector('#df-2252bb5d-6e90-492b-84a5-8ba87bf9c4cb');\n",
              "          const dataTable =\n",
              "            await google.colab.kernel.invokeFunction('convertToInteractive',\n",
              "                                                     [key], {});\n",
              "          if (!dataTable) return;\n",
              "\n",
              "          const docLinkHtml = 'Like what you see? Visit the ' +\n",
              "            '<a target=\"_blank\" href=https://colab.research.google.com/notebooks/data_table.ipynb>data table notebook</a>'\n",
              "            + ' to learn more about interactive tables.';\n",
              "          element.innerHTML = '';\n",
              "          dataTable['output_type'] = 'display_data';\n",
              "          await google.colab.output.renderOutput(dataTable, element);\n",
              "          const docLink = document.createElement('div');\n",
              "          docLink.innerHTML = docLinkHtml;\n",
              "          element.appendChild(docLink);\n",
              "        }\n",
              "      </script>\n",
              "    </div>\n",
              "  </div>\n",
              "  "
            ]
          },
          "metadata": {},
          "execution_count": 42
        }
      ],
      "source": [
        "# In order to be efficient, pandas doens't copy all the data over when you filter it--it just gives you a \"view\" into the original data\n",
        "# Normally this is great, but if we want to start messing around with our new data frame, we want a fresh copy of the data\n",
        "states_with_a_lot_of_starbucks = df[df['people_per_starbucks'] <= 30000].copy()\n",
        "\n",
        "states_with_a_lot_of_starbucks['caffeinated'] = 'highly'\n",
        "\n",
        "states_with_a_lot_of_starbucks.head()"
      ]
    },
    {
      "cell_type": "code",
      "execution_count": 42,
      "metadata": {
        "id": "wo7txkc_GlU7"
      },
      "outputs": [],
      "source": [
        ""
      ]
    },
    {
      "cell_type": "markdown",
      "metadata": {
        "id": "18BqwoUXGlU7"
      },
      "source": [
        "## Bonus Round: My Favorite Things!"
      ]
    },
    {
      "cell_type": "code",
      "execution_count": 43,
      "metadata": {
        "id": "-jgCCBFpGlU7",
        "colab": {
          "base_uri": "https://localhost:8080/"
        },
        "outputId": "a480310d-59ea-477c-f4fe-32135ad3ccd2"
      },
      "outputs": [
        {
          "output_type": "execute_result",
          "data": {
            "text/plain": [
              "(81, 3.0)"
            ]
          },
          "metadata": {},
          "execution_count": 43
        }
      ],
      "source": [
        "# Exponents\n",
        "\n",
        "x = 9\n",
        "x_squared = x ** 2\n",
        "x_square_root = x ** .5\n",
        "\n",
        "x_squared, x_square_root"
      ]
    },
    {
      "cell_type": "code",
      "execution_count": 44,
      "metadata": {
        "id": "_CpyARjEGlU7",
        "colab": {
          "base_uri": "https://localhost:8080/"
        },
        "outputId": "037ccca7-4dce-4635-ee80-b1b7de09b4ec"
      },
      "outputs": [
        {
          "output_type": "execute_result",
          "data": {
            "text/plain": [
              "[1, 4, 9, 16, 25]"
            ]
          },
          "metadata": {},
          "execution_count": 44
        }
      ],
      "source": [
        "# List comprehensions\n",
        "\n",
        "numbers = [1, 2, 3, 4, 5]\n",
        "\n",
        "# The old dumb way\n",
        "\n",
        "numbers_squared = []\n",
        "for number in numbers:\n",
        "    numbers_squared.append(number ** 2)\n",
        "\n",
        "# The cool way\n",
        "numbers_squared_but_cooler = [number ** 2 for number in numbers]\n",
        "\n",
        "numbers_squared_but_cooler"
      ]
    },
    {
      "cell_type": "code",
      "execution_count": 45,
      "metadata": {
        "id": "Im7DsH70GlU7",
        "colab": {
          "base_uri": "https://localhost:8080/"
        },
        "outputId": "12adf5f0-2fb7-4d72-ce3e-54b1af2dc6fb"
      },
      "outputs": [
        {
          "output_type": "stream",
          "name": "stdout",
          "text": [
            "You can drive, but you can't drink\n",
            "You can drive, but you can't drink\n"
          ]
        }
      ],
      "source": [
        "# Chaining comparisons\n",
        "\n",
        "my_age = 17\n",
        "\n",
        "# In most languages we have to do this:\n",
        "\n",
        "if 16 < my_age and my_age < 21:\n",
        "    print('You can drive, but you can\\'t drink')\n",
        "    \n",
        "# But in python we can do THIS\n",
        "\n",
        "if 16 < my_age < 21:\n",
        "    print('You can drive, but you can\\'t drink')"
      ]
    },
    {
      "cell_type": "code",
      "execution_count": 46,
      "metadata": {
        "id": "BMsPU0X6GlU7",
        "colab": {
          "base_uri": "https://localhost:8080/"
        },
        "outputId": "d0f0f659-835f-41dd-b837-7170b78b4623"
      },
      "outputs": [
        {
          "output_type": "execute_result",
          "data": {
            "text/plain": [
              "('fifth', 'fourth')"
            ]
          },
          "metadata": {},
          "execution_count": 46
        }
      ],
      "source": [
        "# Negative indexing\n",
        "\n",
        "ordinals = ['first', 'second', 'third', 'fourth', 'fifth']\n",
        "\n",
        "ordinals[-1], ordinals[-2]"
      ]
    },
    {
      "cell_type": "code",
      "execution_count": 48,
      "metadata": {
        "id": "_jVaNXuOGlU8",
        "colab": {
          "base_uri": "https://localhost:8080/"
        },
        "outputId": "7d11a2b8-afcc-492c-bbbe-96fa93829afd"
      },
      "outputs": [
        {
          "output_type": "stream",
          "name": "stdout",
          "text": [
            "5.666666666666667\n",
            "2\n",
            "5\n"
          ]
        }
      ],
      "source": [
        "a = 17 \n",
        "b = 3\n",
        "\n",
        "# Division\n",
        "print(a/b)\n",
        "\n",
        "# Remainder\n",
        "print(a%b)\n",
        "\n",
        "# Quotient\n",
        "print(a//b)"
      ]
    }
  ],
  "metadata": {
    "kernelspec": {
      "display_name": "Python 3",
      "language": "python",
      "name": "python3"
    },
    "language_info": {
      "codemirror_mode": {
        "name": "ipython",
        "version": 3
      },
      "file_extension": ".py",
      "mimetype": "text/x-python",
      "name": "python",
      "nbconvert_exporter": "python",
      "pygments_lexer": "ipython3",
      "version": "3.9.0"
    },
    "colab": {
      "name": "Part1 - Intro to Python.ipynb",
      "provenance": [],
      "include_colab_link": true
    }
  },
  "nbformat": 4,
  "nbformat_minor": 0
}